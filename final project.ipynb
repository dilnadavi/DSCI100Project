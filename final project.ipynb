{
 "cells": [
  {
   "cell_type": "markdown",
   "id": "3e8d782f-8966-4a7a-9ff0-0b99220055e1",
   "metadata": {},
   "source": [
    "# Project Final Report"
   ]
  },
  {
   "cell_type": "markdown",
   "id": "5b81e609-1571-4107-89ad-f63ac5556e8f",
   "metadata": {},
   "source": [
    "### Introduction"
   ]
  },
  {
   "cell_type": "markdown",
   "id": "7c6a74de-badd-4d66-94c3-aa07469858c9",
   "metadata": {},
   "source": [
    "Introduction: provide some relevant background information on the topic so that someone unfamiliar with it will be prepared to understand the rest of your report clearly state the question you tried to answer with your project identify and fully describe the dataset that was used to answer the question"
   ]
  },
  {
   "cell_type": "markdown",
   "id": "181bc5ed-8eec-4a57-b426-c23c74125b1c",
   "metadata": {},
   "source": [
    "### Methods & Results"
   ]
  },
  {
   "cell_type": "markdown",
   "id": "362c85f2-0f34-42c4-8476-58dec0b9e399",
   "metadata": {},
   "source": [
    "Methods & Results:\n",
    "describe the methods you used to perform your analysis from beginning to end that narrates the analysis code.\n",
    "your report should include code which:\n",
    "loads data \n",
    "wrangles and cleans the data to the format necessary for the planned analysis\n",
    "performs a summary of the data set that is relevant for exploratory data analysis related to the planned analysis \n",
    "creates a visualization of the dataset that is relevant for exploratory data analysis related to the planned analysis\n",
    "performs the data analysis\n",
    "creates a visualization of the analysis \n",
    "note: all figures should have a figure number and a legend\n"
   ]
  },
  {
   "cell_type": "markdown",
   "id": "7186607c-0e7a-402f-8e29-ebfb816dea95",
   "metadata": {},
   "source": [
    "### Discussion"
   ]
  },
  {
   "cell_type": "markdown",
   "id": "348b89e3-9d9f-483c-b65e-84ca23bf8782",
   "metadata": {},
   "source": [
    "Discussion: summarize what you found discuss whether this is what you expected to find? discuss what impact could such findings have? discuss what future questions could this lead to?"
   ]
  },
  {
   "cell_type": "markdown",
   "id": "261bc3d7-ab8b-4985-a0f4-3fc9eb0cf403",
   "metadata": {},
   "source": [
    "### References"
   ]
  },
  {
   "cell_type": "markdown",
   "id": "717a2eff-36df-4aca-a795-25a9b899ea76",
   "metadata": {},
   "source": [
    "References You may include references if necessary, as long as they all have a consistent citation style."
   ]
  },
  {
   "cell_type": "code",
   "execution_count": null,
   "id": "dede5a21-c76f-4490-b8d5-803793181a8c",
   "metadata": {},
   "outputs": [],
   "source": [
    "."
   ]
  },
  {
   "cell_type": "code",
   "execution_count": null,
   "id": "e3264eb9-edb8-4681-9b80-f21a7f8cd3d9",
   "metadata": {},
   "outputs": [],
   "source": []
  }
 ],
 "metadata": {
  "kernelspec": {
   "display_name": "R",
   "language": "R",
   "name": "ir"
  },
  "language_info": {
   "codemirror_mode": "r",
   "file_extension": ".r",
   "mimetype": "text/x-r-source",
   "name": "R",
   "pygments_lexer": "r",
   "version": "4.3.3"
  }
 },
 "nbformat": 4,
 "nbformat_minor": 5
}
